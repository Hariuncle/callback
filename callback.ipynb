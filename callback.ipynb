{
 "cells": [
  {
   "cell_type": "code",
   "execution_count": 25,
   "id": "3d35d501",
   "metadata": {},
   "outputs": [],
   "source": [
    "from tensorflow.keras.datasets import mnist\n",
    "from tensorflow.keras import layers, models, callbacks\n",
    "import tensorflow as tf\n",
    "from tensorflow import keras\n",
    "\n",
    "def get_mnist_model():\n",
    "    inputs = keras.Input(shape=(28*28,))\n",
    "    features = layers.Dense(512, activation=\"relu\")(inputs)\n",
    "    features = layers.Dropout(0.5)(features)\n",
    "    outputs = layers.Dense(10, activation=\"softmax\")(features)\n",
    "    model = keras.Model(inputs, outputs)\n",
    "    return model\n",
    "\n",
    "(images, labels), (test_images, test_labels) = mnist.load_data()\n",
    "images = images.reshape((60000, 28*28)).astype(\"float32\")/255\n",
    "test_images = test_images.reshape((10000,28*28)).astype(\"float32\")/255\n",
    "train_images,val_images = images[10000:], images[:10000]\n",
    "train_labels,val_labels = labels[10000:], labels[:10000]"
   ]
  },
  {
   "cell_type": "code",
   "execution_count": 26,
   "id": "6e923040",
   "metadata": {},
   "outputs": [],
   "source": [
    "class LearningRateHandle(keras.callbacks.Callback):\n",
    "     def on_epoch_end(self, epoch, logs):\n",
    "        current_lr = tf.keras.backend.get_value(self.model.optimizer.lr)\n",
    "\n",
    "        # 검증 손실 가져오기\n",
    "        val_loss = logs.get('val_loss')\n",
    "        \n",
    "        if epoch == 0:\n",
    "            print(f\"Epoch {epoch+1}: 첫번째는 건너뛰기\")\n",
    "            return\n",
    "        \n",
    "        previous_val_loss = self.model.history.history['val_loss'][-1]\n",
    "\n",
    "        # 검증 손실이 증가한 경우 학습률 감소\n",
    "        if val_loss > previous_val_loss:\n",
    "            new_lr = current_lr * 0.5  # 학습률 감소 비율\n",
    "            tf.keras.backend.set_value(self.model.optimizer.lr, new_lr)\n",
    "            print(f\"\\nEpoch {epoch+1}: 검증 손실 증가로 학습률을 줄입니다: {new_lr:.6f}\")"
   ]
  },
  {
   "cell_type": "code",
   "execution_count": 27,
   "id": "d88ee63c",
   "metadata": {},
   "outputs": [
    {
     "name": "stdout",
     "output_type": "stream",
     "text": [
      "Epoch 1/10\n",
      "1563/1563 [==============================] - 15s 8ms/step - loss: 0.2942 - accuracy: 0.9124 - val_loss: 0.1525 - val_accuracy: 0.9555\n",
      "Epoch 1: 첫번째는 건너뛰기\n",
      "Epoch 2/10\n",
      "1563/1563 [==============================] - 13s 8ms/step - loss: 0.1644 - accuracy: 0.9538 - val_loss: 0.1231 - val_accuracy: 0.9674\n",
      "Epoch 3/10\n",
      "1563/1563 [==============================] - 12s 8ms/step - loss: 0.1386 - accuracy: 0.9640 - val_loss: 0.1200 - val_accuracy: 0.9714\n",
      "Epoch 4/10\n",
      "1563/1563 [==============================] - 12s 8ms/step - loss: 0.1232 - accuracy: 0.9686 - val_loss: 0.1133 - val_accuracy: 0.9727\n",
      "Epoch 5/10\n",
      "1563/1563 [==============================] - 12s 8ms/step - loss: 0.1144 - accuracy: 0.9715 - val_loss: 0.1113 - val_accuracy: 0.9755\n",
      "Epoch 6/10\n",
      "1563/1563 [==============================] - 12s 8ms/step - loss: 0.1085 - accuracy: 0.9735 - val_loss: 0.1124 - val_accuracy: 0.9747\n",
      "\n",
      "Epoch 6: 검증 손실 증가로 학습률을 줄입니다: 0.000500\n",
      "Epoch 7/10\n",
      "1563/1563 [==============================] - 12s 8ms/step - loss: 0.0882 - accuracy: 0.9786 - val_loss: 0.1055 - val_accuracy: 0.9783\n",
      "Epoch 8/10\n",
      "1563/1563 [==============================] - 12s 8ms/step - loss: 0.0830 - accuracy: 0.9805 - val_loss: 0.1052 - val_accuracy: 0.9786\n",
      "Epoch 9/10\n",
      "1563/1563 [==============================] - 12s 8ms/step - loss: 0.0795 - accuracy: 0.9820 - val_loss: 0.1037 - val_accuracy: 0.9795\n",
      "Epoch 10/10\n",
      "1563/1563 [==============================] - 12s 8ms/step - loss: 0.0714 - accuracy: 0.9824 - val_loss: 0.1059 - val_accuracy: 0.9789\n",
      "\n",
      "Epoch 10: 검증 손실 증가로 학습률을 줄입니다: 0.000250\n"
     ]
    },
    {
     "data": {
      "text/plain": [
       "<keras.callbacks.History at 0x7cbab86ba5b0>"
      ]
     },
     "execution_count": 27,
     "metadata": {},
     "output_type": "execute_result"
    }
   ],
   "source": [
    "model = get_mnist_model()\n",
    "model.compile(optimizer=\"rmsprop\",\n",
    "              loss=\"sparse_categorical_crossentropy\",\n",
    "              metrics=[\"accuracy\"])\n",
    "model.fit(train_images,train_labels,\n",
    "          epochs=10,\n",
    "          callbacks=[LearningRateHandle()],\n",
    "          validation_data=(val_images, val_labels))"
   ]
  },
  {
   "cell_type": "markdown",
   "id": "66ae4ca8",
   "metadata": {},
   "source": [
    "### 회고록 \n",
    "- 첫번째 에포크 때 오류가 게속나서 확인하였습니다. \n",
    "\n",
    "-이전 로스값과 현재 로스값을 비교해서 하는 동작인데 첫번째 에포크를 뛰어넘어야지 오류가 나지 않는것을 확인하여 코드를 수정하였습니다.\n",
    "\n",
    "- 시간이 부족해서 조금 더 요소들을 추가하지 못한것이 아쉽지만 callback에 대해서 이해해서 좋았습니다.\n",
    "\n",
    "\n",
    "### 피드백\n",
    "-loss값이 내려간다고 해서 학습률을 내리면 무조건 개선되는지 여부에 대해서는 확실하지가 않다.\n",
    "\n",
    "-바로 값을 바꾸는것보다 patience를 삽입해서 하는것이 좋을 것 같다.\n",
    "\n",
    "-간단하게 작성해주셔서 이해하기가 빨랐습니다."
   ]
  },
  {
   "cell_type": "markdown",
   "id": "f35af4db",
   "metadata": {},
   "source": []
  }
 ],
 "metadata": {
  "kernelspec": {
   "display_name": "Python 3 (ipykernel)",
   "language": "python",
   "name": "python3"
  },
  "language_info": {
   "codemirror_mode": {
    "name": "ipython",
    "version": 3
   },
   "file_extension": ".py",
   "mimetype": "text/x-python",
   "name": "python",
   "nbconvert_exporter": "python",
   "pygments_lexer": "ipython3",
   "version": "3.9.7"
  }
 },
 "nbformat": 4,
 "nbformat_minor": 5
}
